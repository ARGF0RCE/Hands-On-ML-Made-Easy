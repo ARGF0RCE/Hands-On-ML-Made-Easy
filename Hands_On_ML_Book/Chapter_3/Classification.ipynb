{
 "cells": [
  {
   "cell_type": "markdown",
   "id": "1dcf146e-9ad3-4670-a38f-690d3e03baa8",
   "metadata": {},
   "source": [
    "# Chapter 3: Classification\n",
    "\n",
    "In chapter 2 we explored a regression task, predicting house values, using various algorithms which will be explained in further detail in the coming chapters of the book. (Regarding the theory part I would recommend that you please read the book to understand it better. This course is code oriented, so not much theory will be covered).\n",
    "\n",
    "Now we will turn our attention to classification systems."
   ]
  },
  {
   "cell_type": "markdown",
   "id": "e9cde380-8be5-44f3-ad4d-7b8491e07155",
   "metadata": {},
   "source": [
    "## MNIST\n",
    "\n",
    "In this chapter we will be using the MNIST dataset, which is set of 70,000 small images of digits which are handwritten. Each image is labelled with the digit it represents.\n",
    "\n",
    "This set has been studied so much that it is often called the *hello world* of Machine Learning."
   ]
  },
  {
   "cell_type": "code",
   "execution_count": 1,
   "id": "504a3734-cd11-46bf-b328-c903f9aaf4d3",
   "metadata": {},
   "outputs": [
    {
     "data": {
      "text/plain": [
       "dict_keys(['data', 'target', 'frame', 'categories', 'feature_names', 'target_names', 'DESCR', 'details', 'url'])"
      ]
     },
     "execution_count": 1,
     "metadata": {},
     "output_type": "execute_result"
    }
   ],
   "source": [
    "# Scikit-Learn provides many helper functions to downlad popular datasets, in which MNIST is one of them. The following code fetches the MNIST dataset\n",
    "from sklearn.datasets import fetch_openml\n",
    "mnist = fetch_openml('mnist_784', version=1)\n",
    "mnist.keys()"
   ]
  },
  {
   "cell_type": "markdown",
   "id": "d1396082-050d-4cf7-ae34-dc09434a000f",
   "metadata": {},
   "source": [
    "Datasets loaded by Scikit-learn generally have a similar dictionary structure as above including the following:\n",
    "* A `DESCR` key describing the dataset\n",
    "* A `data` key containing an array with one row per instance and one column per feature.\n",
    "* A `target` key containing an array of labels.\n",
    "\n",
    "Let's look at these arrays:"
   ]
  },
  {
   "cell_type": "code",
   "execution_count": 2,
   "id": "69196079-57af-4a45-99dd-ef133b40360d",
   "metadata": {},
   "outputs": [
    {
     "data": {
      "text/plain": [
       "((70000, 784), (70000,))"
      ]
     },
     "execution_count": 2,
     "metadata": {},
     "output_type": "execute_result"
    }
   ],
   "source": [
    "X, y = mnist['data'], mnist['target']\n",
    "X.shape, y.shape"
   ]
  },
  {
   "cell_type": "markdown",
   "id": "85915b12-0240-48ed-8ef4-5b238979799b",
   "metadata": {},
   "source": [
    "There are 70,000 images and each image has 784 features. This is because each feature is a pixel intensity (from 0 (white) to 255 (black)) and each image is made up of 28 * 28 pixels.\n",
    "Let us become one with data."
   ]
  },
  {
   "cell_type": "code",
   "execution_count": 3,
   "id": "e94cc7bd-6628-4028-848a-9d59278ac6e1",
   "metadata": {},
   "outputs": [
    {
     "data": {
      "text/plain": [
       "(784,)"
      ]
     },
     "execution_count": 3,
     "metadata": {},
     "output_type": "execute_result"
    }
   ],
   "source": [
    "X.values[0].shape"
   ]
  },
  {
   "cell_type": "code",
   "execution_count": 4,
   "id": "980bcfbc-5521-4d09-97b0-c55516d3ad32",
   "metadata": {},
   "outputs": [
    {
     "data": {
      "image/png": "[encoded data removed]",
      "text/plain": [
       "<Figure size 432x288 with 1 Axes>"
      ]
     },
     "metadata": {
      "needs_background": "light"
     },
     "output_type": "display_data"
    }
   ],
   "source": [
    "# visualize 1 image at a time.\n",
    "import matplotlib.pyplot as plt\n",
    "import random\n",
    "\n",
    "rand_index = random.randint(0, len(X))\n",
    "rand_image = X.values[rand_index].reshape((28, 28))\n",
    "\n",
    "plt.imshow(rand_image, cmap=plt.cm.gray)\n",
    "plt.axis(False);"
   ]
  },
  {
   "cell_type": "code",
   "execution_count": 5,
   "id": "df8854aa-3481-4cac-bc10-a239c7757720",
   "metadata": {},
   "outputs": [
    {
     "data": {
      "text/plain": [
       "'3'"
      ]
     },
     "execution_count": 5,
     "metadata": {},
     "output_type": "execute_result"
    }
   ],
   "source": [
    "y[rand_index]"
   ]
  },
  {
   "cell_type": "code",
   "execution_count": 6,
   "id": "a86612d7-6438-4041-900f-e31bad8b5962",
   "metadata": {},
   "outputs": [],
   "source": [
    "import numpy as np\n",
    "y = y.astype(np.uint8)"
   ]
  },
  {
   "cell_type": "code",
   "execution_count": 7,
   "id": "82fbefb2-ff5c-4c34-ad0b-94d5c43bc502",
   "metadata": {},
   "outputs": [
    {
     "data": {
      "text/plain": [
       "((60000, 784), (60000,), (10000, 784), (10000,))"
      ]
     },
     "execution_count": 7,
     "metadata": {},
     "output_type": "execute_result"
    }
   ],
   "source": [
    "# Creating training and test set\n",
    "X_train, X_test, y_train, y_test = X[:60000], X[60000:], y[:60000], y[60000:]\n",
    "X_train.shape, y_train.shape, X_test.shape, y_test.shape"
   ]
  },
  {
   "cell_type": "markdown",
   "id": "6c44e2f4-e4f5-47b8-8fbd-108185d8fedc",
   "metadata": {},
   "source": [
    "## Training a Binary Classifier\n",
    "\n",
    "Let's simplify the problem for now and try only to identify one-digit-for example the number 5.\n",
    "\n",
    "This \"5-detector\" will be an example of a *binary classifier*, capable of distinguishing between just two classes, 5 and not 5.\n",
    "\n",
    "Let's create the target vectors for the classification task:"
   ]
  },
  {
   "cell_type": "code",
   "execution_count": 8,
   "id": "6b83e6a6-0f88-4511-9e67-c0a41e1e35a4",
   "metadata": {},
   "outputs": [],
   "source": [
    "y_train_5 = (y_train == 5) # True for all 5's, False for all other digits\n",
    "y_test_5 = (y_test == 5)"
   ]
  },
  {
   "cell_type": "markdown",
   "id": "9cba7e6a-7d28-407c-b590-9642c9096015",
   "metadata": {},
   "source": [
    "Now let's pick a classifier and train it. A good place to start is with a *Stoachistic Gradient Descent* (SGD) classifier, using Scikit-Learn's `SGDClassifier` class.\n",
    "\n",
    "Let's create an `SGDClassifier` and train it on the whole training set:"
   ]
  },
  {
   "cell_type": "code",
   "execution_count": 13,
   "id": "4da0623f-28f7-42a3-a2de-e835f4597e5a",
   "metadata": {},
   "outputs": [
    {
     "data": {
      "text/plain": [
       "SGDClassifier(random_state=42)"
      ]
     },
     "execution_count": 13,
     "metadata": {},
     "output_type": "execute_result"
    }
   ],
   "source": [
    "from sklearn.linear_model import SGDClassifier\n",
    "sgd_clf = SGDClassifier(random_state=42)\n",
    "sgd_clf.fit(X_train.to_numpy(), y_train_5)"
   ]
  },
  {
   "cell_type": "markdown",
   "id": "a031fb0f-0633-4ce7-84a6-1c7916c550c0",
   "metadata": {},
   "source": [
    "> 🔑 **Note:** The `SGDClassifier` relies on randomness during training (hence the name *stochastic*). If you want reproducible results, you should set the `random_state` parameter."
   ]
  },
  {
   "cell_type": "code",
   "execution_count": 14,
   "id": "a4404842-9bbe-47b3-b72c-e0f841c97390",
   "metadata": {},
   "outputs": [
    {
     "data": {
      "text/plain": [
       "array([False])"
      ]
     },
     "execution_count": 14,
     "metadata": {},
     "output_type": "execute_result"
    }
   ],
   "source": [
    "sgd_clf.predict([rand_image.reshape((784,))])"
   ]
  }
 ],
 "metadata": {
  "kernelspec": {
   "display_name": "Python 3 (ipykernel)",
   "language": "python",
   "name": "python3"
  },
  "language_info": {
   "codemirror_mode": {
    "name": "ipython",
    "version": 3
   },
   "file_extension": ".py",
   "mimetype": "text/x-python",
   "name": "python",
   "nbconvert_exporter": "python",
   "pygments_lexer": "ipython3",
   "version": "3.8.12"
  }
 },
 "nbformat": 4,
 "nbformat_minor": 5
}
